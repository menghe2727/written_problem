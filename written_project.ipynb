{
 "cells": [
  {
   "cell_type": "markdown",
   "source": [
    "The dataset has future merchant transaction activity, for merchants that start over a 2 year period\n",
    "(2033-2034). The data spans from 1/1/33 through 12/31/34. Although the data is made up, you can\n",
    "consider this to be a random sample of future merchants using Stripe. Each observation is a\n",
    "transaction amount in cents. If the merchant stops processing with Stripe, then they would no\n",
    "longer appear.\n",
    "\n",
    "Question:\n",
    "1. identify different kinds of businesses in the sample\n",
    "2. identifying and predicting churn (stop processing)\n",
    "\n"
   ],
   "metadata": {
    "collapsed": false,
    "pycharm": {
     "name": "#%% md\n"
    }
   }
  },
  {
   "cell_type": "code",
   "execution_count": 238,
   "metadata": {
    "collapsed": true
   },
   "outputs": [
    {
     "name": "stdout",
     "output_type": "stream",
     "text": [
      "merchant               0\n",
      "time                   0\n",
      "amount_usd_in_cents    0\n",
      "dtype: int64\n",
      "number of row: 1513719\n",
      "number of merchant: 14351\n"
     ]
    },
    {
     "data": {
      "text/plain": "merchant               object\ntime                   object\namount_usd_in_cents     int64\ndtype: object"
     },
     "execution_count": 238,
     "metadata": {},
     "output_type": "execute_result"
    }
   ],
   "source": [
    "#import data\n",
    "import pandas as pd\n",
    "import numpy as np\n",
    "from datetime import datetime\n",
    "from sklearn.cluster import KMeans\n",
    "import matplotlib.pyplot as plt\n",
    "from sklearn.ensemble import RandomForestClassifier\n",
    "from sklearn import metrics\n",
    "trans = pd.read_csv('D:/pythonProject/stripe/takehome_ds_written.csv', index_col=0)\n",
    "trans.head()\n",
    "print (trans.isnull().sum())\n",
    "print (\"number of row: \" + str(len(trans.merchant)))\n",
    "print (\"number of merchant: \" + str(len(set(trans.merchant))))\n",
    "trans.dtypes"
   ]
  },
  {
   "cell_type": "markdown",
   "source": [
    "1. The dataset includes 1,513,719 records and 3 field.\n",
    "2. No null data.\n",
    "3. Including 14351 merchants.\n",
    "4. From the first 5 rows of data, we can find that there are three columns of data, merchant ID, time, amount_used_in_cents.\n",
    "Because the type of time is the object, we should change time into the datatime type."
   ],
   "metadata": {
    "collapsed": false,
    "pycharm": {
     "name": "#%% md\n"
    }
   }
  },
  {
   "cell_type": "code",
   "execution_count": 239,
   "outputs": [
    {
     "data": {
      "text/plain": "     merchant                 time  amount_usd_in_cents               dates  \\\n1  faa029c6b0  2034-06-17 23:34:14                 6349 2034-06-17 23:34:14   \n2  ed7a7d91aa  2034-12-27 00:40:38                 3854 2034-12-27 00:40:38   \n3  5608f200cf  2034-04-30 01:29:42                  789 2034-04-30 01:29:42   \n4  15b1a0d61e  2034-09-16 01:06:23                 4452 2034-09-16 01:06:23   \n5  4770051790  2034-07-22 16:21:42                20203 2034-07-22 16:21:42   \n\n         day      month       year  \n1 2034-06-17 2034-06-01 2034-01-01  \n2 2034-12-27 2034-12-01 2034-01-01  \n3 2034-04-30 2034-04-01 2034-01-01  \n4 2034-09-16 2034-09-01 2034-01-01  \n5 2034-07-22 2034-07-01 2034-01-01  ",
      "text/html": "<div>\n<style scoped>\n    .dataframe tbody tr th:only-of-type {\n        vertical-align: middle;\n    }\n\n    .dataframe tbody tr th {\n        vertical-align: top;\n    }\n\n    .dataframe thead th {\n        text-align: right;\n    }\n</style>\n<table border=\"1\" class=\"dataframe\">\n  <thead>\n    <tr style=\"text-align: right;\">\n      <th></th>\n      <th>merchant</th>\n      <th>time</th>\n      <th>amount_usd_in_cents</th>\n      <th>dates</th>\n      <th>day</th>\n      <th>month</th>\n      <th>year</th>\n    </tr>\n  </thead>\n  <tbody>\n    <tr>\n      <th>1</th>\n      <td>faa029c6b0</td>\n      <td>2034-06-17 23:34:14</td>\n      <td>6349</td>\n      <td>2034-06-17 23:34:14</td>\n      <td>2034-06-17</td>\n      <td>2034-06-01</td>\n      <td>2034-01-01</td>\n    </tr>\n    <tr>\n      <th>2</th>\n      <td>ed7a7d91aa</td>\n      <td>2034-12-27 00:40:38</td>\n      <td>3854</td>\n      <td>2034-12-27 00:40:38</td>\n      <td>2034-12-27</td>\n      <td>2034-12-01</td>\n      <td>2034-01-01</td>\n    </tr>\n    <tr>\n      <th>3</th>\n      <td>5608f200cf</td>\n      <td>2034-04-30 01:29:42</td>\n      <td>789</td>\n      <td>2034-04-30 01:29:42</td>\n      <td>2034-04-30</td>\n      <td>2034-04-01</td>\n      <td>2034-01-01</td>\n    </tr>\n    <tr>\n      <th>4</th>\n      <td>15b1a0d61e</td>\n      <td>2034-09-16 01:06:23</td>\n      <td>4452</td>\n      <td>2034-09-16 01:06:23</td>\n      <td>2034-09-16</td>\n      <td>2034-09-01</td>\n      <td>2034-01-01</td>\n    </tr>\n    <tr>\n      <th>5</th>\n      <td>4770051790</td>\n      <td>2034-07-22 16:21:42</td>\n      <td>20203</td>\n      <td>2034-07-22 16:21:42</td>\n      <td>2034-07-22</td>\n      <td>2034-07-01</td>\n      <td>2034-01-01</td>\n    </tr>\n  </tbody>\n</table>\n</div>"
     },
     "execution_count": 239,
     "metadata": {},
     "output_type": "execute_result"
    }
   ],
   "source": [
    "#change data type of time, extract year, month and day from time.\n",
    "trans['dates'] = pd.to_datetime(trans.time)\n",
    "trans['day'] = trans.dates.astype('M8[D]')  #day\n",
    "trans['month'] = trans.dates.astype('M8[M]')  #month\n",
    "trans['year'] = trans.dates.astype('M8[Y]')  #year\n",
    "trans.dtypes\n",
    "trans.head()"
   ],
   "metadata": {
    "collapsed": false,
    "pycharm": {
     "name": "#%%\n"
    }
   }
  },
  {
   "cell_type": "code",
   "execution_count": 240,
   "outputs": [
    {
     "data": {
      "text/plain": "       amount_usd_in_cents\ncount         1.513719e+06\nmean          1.548466e+04\nstd           6.161886e+04\nmin           2.010000e+02\n25%           3.215000e+03\n50%           6.104000e+03\n75%           1.260600e+04\nmax           2.592028e+07",
      "text/html": "<div>\n<style scoped>\n    .dataframe tbody tr th:only-of-type {\n        vertical-align: middle;\n    }\n\n    .dataframe tbody tr th {\n        vertical-align: top;\n    }\n\n    .dataframe thead th {\n        text-align: right;\n    }\n</style>\n<table border=\"1\" class=\"dataframe\">\n  <thead>\n    <tr style=\"text-align: right;\">\n      <th></th>\n      <th>amount_usd_in_cents</th>\n    </tr>\n  </thead>\n  <tbody>\n    <tr>\n      <th>count</th>\n      <td>1.513719e+06</td>\n    </tr>\n    <tr>\n      <th>mean</th>\n      <td>1.548466e+04</td>\n    </tr>\n    <tr>\n      <th>std</th>\n      <td>6.161886e+04</td>\n    </tr>\n    <tr>\n      <th>min</th>\n      <td>2.010000e+02</td>\n    </tr>\n    <tr>\n      <th>25%</th>\n      <td>3.215000e+03</td>\n    </tr>\n    <tr>\n      <th>50%</th>\n      <td>6.104000e+03</td>\n    </tr>\n    <tr>\n      <th>75%</th>\n      <td>1.260600e+04</td>\n    </tr>\n    <tr>\n      <th>max</th>\n      <td>2.592028e+07</td>\n    </tr>\n  </tbody>\n</table>\n</div>"
     },
     "execution_count": 240,
     "metadata": {},
     "output_type": "execute_result"
    }
   ],
   "source": [
    "#We should see the statistics for data\n",
    "trans.describe()"
   ],
   "metadata": {
    "collapsed": false,
    "pycharm": {
     "name": "#%%\n"
    }
   }
  },
  {
   "cell_type": "code",
   "execution_count": 241,
   "outputs": [
    {
     "data": {
      "text/plain": "<AxesSubplot:ylabel='Frequency'>"
     },
     "execution_count": 241,
     "metadata": {},
     "output_type": "execute_result"
    },
    {
     "data": {
      "text/plain": "<Figure size 432x288 with 1 Axes>",
      "image/png": "[encoded data removed]"
     },
     "metadata": {
      "needs_background": "light"
     },
     "output_type": "display_data"
    }
   ],
   "source": [
    "trans['amount_usd_in_cents'].plot.hist(bins= 40)\n"
   ],
   "metadata": {
    "collapsed": false,
    "pycharm": {
     "name": "#%%plot the frequency of transaction\n"
    }
   }
  },
  {
   "cell_type": "markdown",
   "source": [
    "From the plot, most amount of transactions are less than 5*10^6"
   ],
   "metadata": {
    "collapsed": false,
    "pycharm": {
     "name": "#%% md\n"
    }
   }
  },
  {
   "cell_type": "markdown",
   "source": [
    "For the first problem, we want to find different kinds of businesses in the sample, which means\n",
    "finding the classifications for the merchants. This is a clustering problem because we didn't have\n",
    "the classification of the merchant.\n",
    "I want to use the simplest and most popular unsupervised machine learning algorithms the k-means model to do the clustering,\n",
    "I need some variables to do the k-means algorithm, I calculate some statistics to be the variable, like mean, median, maximal,\n",
    "minimal, number, range, std, the sum for the amount of transaction for each merchant in one transaction. Also, the number of transactions\n",
    "for every season, how many transactions for every month.\n",
    "1. Mean\n",
    "2. Median\n",
    "3. Maximal\n",
    "4. Minimal\n",
    "5. Count of transactions for one merchant\n",
    "6. Standard Deviation\n",
    "7. Sum of the amount of transaction for one merchant\n",
    "8. Length (how many months this merchant processing)\n",
    "9. 2033-S1 to 2034-S4 (the amount of transactions for every season)\n",
    "(S1:1-3 month, S2:4-6 month, S3:7-9 month, S4:10-12 month)\n",
    "10. Num_2033-s1 to Num_2034-S4 (the number of transaction for every season)\n",
    "\n",
    "\n",
    "\n",
    "\n",
    "\n"
   ],
   "metadata": {
    "collapsed": false,
    "pycharm": {
     "name": "#%% md\n"
    }
   }
  },
  {
   "cell_type": "code",
   "execution_count": 242,
   "outputs": [
    {
     "name": "stdout",
     "output_type": "stream",
     "text": [
      "merchant       0\n",
      "Mean           0\n",
      "Median         0\n",
      "Max            0\n",
      "Min            0\n",
      "Num            0\n",
      "Std         1666\n",
      "Sum            0\n",
      "dtype: int64\n",
      "merchant    0\n",
      "Mean        0\n",
      "Median      0\n",
      "Max         0\n",
      "Min         0\n",
      "Num         0\n",
      "Std         0\n",
      "Sum         0\n",
      "dtype: int64\n"
     ]
    }
   ],
   "source": [
    "#calculate statistics for variables\n",
    "metric = ('mean', 'median', 'max', 'min', 'count', 'std', 'sum')\n",
    "stat = trans.groupby('merchant')['amount_usd_in_cents'].agg(metric).reset_index()\n",
    "count_month = trans.groupby(['merchant','month'])['amount_usd_in_cents'].count().reset_index()\n",
    "sum_month = trans.groupby(['merchant','month'])['amount_usd_in_cents'].sum().reset_index()\n",
    "stat.columns = ['merchant','Mean', 'Median', 'Max', 'Min', 'Num', 'Std', 'Sum']\n",
    "print(stat.isnull().sum())\n",
    "stat = stat.fillna(0) #use 0 to fill na value for std\n",
    "print(stat.isnull().sum())\n"
   ],
   "metadata": {
    "collapsed": false,
    "pycharm": {
     "name": "#%%\n"
    }
   }
  },
  {
   "cell_type": "code",
   "execution_count": 243,
   "outputs": [],
   "source": [
    "count_month = count_month.pivot(index='merchant', columns='month', values='amount_usd_in_cents') #number for every month\n",
    "sum_month = sum_month.pivot(index='merchant', columns='month', values='amount_usd_in_cents') #amount for every month\n",
    "count_month.columns = [month for month in count_month.columns.strftime('%Y-%m')] #change the title\n",
    "sum_month.columns = [month for month in sum_month.columns.strftime('%Y-%m')] #change the title\n"
   ],
   "metadata": {
    "collapsed": false,
    "pycharm": {
     "name": "#%%\n"
    }
   }
  },
  {
   "cell_type": "code",
   "execution_count": 244,
   "outputs": [
    {
     "data": {
      "text/plain": "            2033-01  2033-02  2033-03  2033-04  2033-05  2033-06  2033-07  \\\nmerchant                                                                    \n0002b63b92      0.0      0.0      0.0      0.0      1.0      0.0      0.0   \n0002d07bba      0.0      0.0      0.0      0.0      0.0      0.0      0.0   \n00057d4302      0.0      0.0      0.0      0.0     17.0      0.0      0.0   \n000bcff341      0.0      0.0      0.0      0.0      0.0      0.0      0.0   \n000ddbf0ca      0.0      0.0      0.0      0.0      0.0      1.0      0.0   \n\n            2033-08  2033-09  2033-10  ...  2034-04  2034-05  2034-06  \\\nmerchant                               ...                              \n0002b63b92      0.0      0.0      0.0  ...      0.0      0.0      0.0   \n0002d07bba      0.0      0.0      0.0  ...      0.0      0.0      0.0   \n00057d4302     11.0      0.0      0.0  ...      0.0      0.0      0.0   \n000bcff341      1.0      0.0      0.0  ...      0.0      0.0      0.0   \n000ddbf0ca      0.0      0.0      0.0  ...      0.0      0.0      0.0   \n\n            2034-07  2034-08  2034-09  2034-10  2034-11  2034-12  Length  \nmerchant                                                                  \n0002b63b92      0.0      0.0      0.0      0.0      0.0      0.0       1  \n0002d07bba      0.0      0.0      0.0      2.0      1.0      1.0       3  \n00057d4302      0.0      0.0      0.0      0.0      0.0      0.0       2  \n000bcff341      0.0      0.0      0.0      0.0      0.0      0.0       1  \n000ddbf0ca      0.0      0.0      0.0      0.0      0.0      0.0       1  \n\n[5 rows x 25 columns]",
      "text/html": "<div>\n<style scoped>\n    .dataframe tbody tr th:only-of-type {\n        vertical-align: middle;\n    }\n\n    .dataframe tbody tr th {\n        vertical-align: top;\n    }\n\n    .dataframe thead th {\n        text-align: right;\n    }\n</style>\n<table border=\"1\" class=\"dataframe\">\n  <thead>\n    <tr style=\"text-align: right;\">\n      <th></th>\n      <th>2033-01</th>\n      <th>2033-02</th>\n      <th>2033-03</th>\n      <th>2033-04</th>\n      <th>2033-05</th>\n      <th>2033-06</th>\n      <th>2033-07</th>\n      <th>2033-08</th>\n      <th>2033-09</th>\n      <th>2033-10</th>\n      <th>...</th>\n      <th>2034-04</th>\n      <th>2034-05</th>\n      <th>2034-06</th>\n      <th>2034-07</th>\n      <th>2034-08</th>\n      <th>2034-09</th>\n      <th>2034-10</th>\n      <th>2034-11</th>\n      <th>2034-12</th>\n      <th>Length</th>\n    </tr>\n    <tr>\n      <th>merchant</th>\n      <th></th>\n      <th></th>\n      <th></th>\n      <th></th>\n      <th></th>\n      <th></th>\n      <th></th>\n      <th></th>\n      <th></th>\n      <th></th>\n      <th></th>\n      <th></th>\n      <th></th>\n      <th></th>\n      <th></th>\n      <th></th>\n      <th></th>\n      <th></th>\n      <th></th>\n      <th></th>\n      <th></th>\n    </tr>\n  </thead>\n  <tbody>\n    <tr>\n      <th>0002b63b92</th>\n      <td>0.0</td>\n      <td>0.0</td>\n      <td>0.0</td>\n      <td>0.0</td>\n      <td>1.0</td>\n      <td>0.0</td>\n      <td>0.0</td>\n      <td>0.0</td>\n      <td>0.0</td>\n      <td>0.0</td>\n      <td>...</td>\n      <td>0.0</td>\n      <td>0.0</td>\n      <td>0.0</td>\n      <td>0.0</td>\n      <td>0.0</td>\n      <td>0.0</td>\n      <td>0.0</td>\n      <td>0.0</td>\n      <td>0.0</td>\n      <td>1</td>\n    </tr>\n    <tr>\n      <th>0002d07bba</th>\n      <td>0.0</td>\n      <td>0.0</td>\n      <td>0.0</td>\n      <td>0.0</td>\n      <td>0.0</td>\n      <td>0.0</td>\n      <td>0.0</td>\n      <td>0.0</td>\n      <td>0.0</td>\n      <td>0.0</td>\n      <td>...</td>\n      <td>0.0</td>\n      <td>0.0</td>\n      <td>0.0</td>\n      <td>0.0</td>\n      <td>0.0</td>\n      <td>0.0</td>\n      <td>2.0</td>\n      <td>1.0</td>\n      <td>1.0</td>\n      <td>3</td>\n    </tr>\n    <tr>\n      <th>00057d4302</th>\n      <td>0.0</td>\n      <td>0.0</td>\n      <td>0.0</td>\n      <td>0.0</td>\n      <td>17.0</td>\n      <td>0.0</td>\n      <td>0.0</td>\n      <td>11.0</td>\n      <td>0.0</td>\n      <td>0.0</td>\n      <td>...</td>\n      <td>0.0</td>\n      <td>0.0</td>\n      <td>0.0</td>\n      <td>0.0</td>\n      <td>0.0</td>\n      <td>0.0</td>\n      <td>0.0</td>\n      <td>0.0</td>\n      <td>0.0</td>\n      <td>2</td>\n    </tr>\n    <tr>\n      <th>000bcff341</th>\n      <td>0.0</td>\n      <td>0.0</td>\n      <td>0.0</td>\n      <td>0.0</td>\n      <td>0.0</td>\n      <td>0.0</td>\n      <td>0.0</td>\n      <td>1.0</td>\n      <td>0.0</td>\n      <td>0.0</td>\n      <td>...</td>\n      <td>0.0</td>\n      <td>0.0</td>\n      <td>0.0</td>\n      <td>0.0</td>\n      <td>0.0</td>\n      <td>0.0</td>\n      <td>0.0</td>\n      <td>0.0</td>\n      <td>0.0</td>\n      <td>1</td>\n    </tr>\n    <tr>\n      <th>000ddbf0ca</th>\n      <td>0.0</td>\n      <td>0.0</td>\n      <td>0.0</td>\n      <td>0.0</td>\n      <td>0.0</td>\n      <td>1.0</td>\n      <td>0.0</td>\n      <td>0.0</td>\n      <td>0.0</td>\n      <td>0.0</td>\n      <td>...</td>\n      <td>0.0</td>\n      <td>0.0</td>\n      <td>0.0</td>\n      <td>0.0</td>\n      <td>0.0</td>\n      <td>0.0</td>\n      <td>0.0</td>\n      <td>0.0</td>\n      <td>0.0</td>\n      <td>1</td>\n    </tr>\n  </tbody>\n</table>\n<p>5 rows × 25 columns</p>\n</div>"
     },
     "execution_count": 244,
     "metadata": {},
     "output_type": "execute_result"
    }
   ],
   "source": [
    "#Compute the length variable\n",
    "count_month['Length'] = count_month.notnull().sum(axis=1)\n",
    "count_month = count_month.fillna(0)\n",
    "sum_month = sum_month.fillna(0)\n",
    "count_month.head()\n"
   ],
   "metadata": {
    "collapsed": false,
    "pycharm": {
     "name": "#%%\n"
    }
   }
  },
  {
   "cell_type": "code",
   "execution_count": 245,
   "outputs": [],
   "source": [
    "#Sum to season\n",
    "count_month['2033-S1'] = count_month['2033-01'] + count_month['2033-02'] + count_month['2033-03']\n",
    "count_month['2033-S2'] = count_month['2033-04'] + count_month['2033-05'] + count_month['2033-06']\n",
    "count_month['2033-S3'] = count_month['2033-07'] + count_month['2033-08'] + count_month['2033-09']\n",
    "count_month['2033-S4'] = count_month['2033-10'] + count_month['2033-11'] + count_month['2033-12']\n",
    "count_month['2034-S1'] = count_month['2034-01'] + count_month['2034-02'] + count_month['2034-03']\n",
    "count_month['2034-S2'] = count_month['2034-04'] + count_month['2034-05'] + count_month['2034-06']\n",
    "count_month['2034-S3'] = count_month['2034-07'] + count_month['2034-08'] + count_month['2034-09']\n",
    "count_month['2034-S4'] = count_month['2034-10'] + count_month['2034-11'] + count_month['2034-12']\n",
    "sum_month['Num_2033-S1'] = sum_month['2033-01'] + sum_month['2033-02'] + sum_month['2033-03']\n",
    "sum_month['Num_2033-S2'] = sum_month['2033-04'] + sum_month['2033-05'] + sum_month['2033-06']\n",
    "sum_month['Num_2033-S3'] = sum_month['2033-07'] + sum_month['2033-08'] + sum_month['2033-09']\n",
    "sum_month['Num_2033-S4'] = sum_month['2033-10'] + sum_month['2033-11'] + sum_month['2033-12']\n",
    "sum_month['Num_2034-S1'] = sum_month['2034-01'] + sum_month['2034-02'] + sum_month['2034-03']\n",
    "sum_month['Num_2034-S2'] = sum_month['2034-04'] + sum_month['2034-05'] + sum_month['2034-06']\n",
    "sum_month['Num_2034-S3'] = sum_month['2034-07'] + sum_month['2034-08'] + sum_month['2034-09']\n",
    "sum_month['Num_2034-S4'] = sum_month['2034-10'] + sum_month['2034-11'] + sum_month['2034-12']\n",
    "count_season = count_month.iloc[:,24:35]\n",
    "sum_season = sum_month.iloc[:,24:34]\n",
    "count_season = count_season.reset_index()\n",
    "sum_season = sum_season.reset_index()\n"
   ],
   "metadata": {
    "collapsed": false,
    "pycharm": {
     "name": "#%%\n"
    }
   }
  },
  {
   "cell_type": "code",
   "execution_count": 246,
   "outputs": [],
   "source": [
    "#combine to one dataframe\n",
    "stat = stat.merge(count_season, how = 'inner', on = 'merchant')\n",
    "stat = stat.merge(sum_season, how = 'inner', on = 'merchant')\n"
   ],
   "metadata": {
    "collapsed": false,
    "pycharm": {
     "name": "#%%\n"
    }
   }
  },
  {
   "cell_type": "code",
   "execution_count": 247,
   "outputs": [
    {
     "name": "stdout",
     "output_type": "stream",
     "text": [
      "merchant       0\n",
      "Mean           0\n",
      "Median         0\n",
      "Max            0\n",
      "Min            0\n",
      "Num            0\n",
      "Std            0\n",
      "Sum            0\n",
      "Length         0\n",
      "2033-S1        0\n",
      "2033-S2        0\n",
      "2033-S3        0\n",
      "2033-S4        0\n",
      "2034-S1        0\n",
      "2034-S2        0\n",
      "2034-S3        0\n",
      "2034-S4        0\n",
      "Num_2033-S1    0\n",
      "Num_2033-S2    0\n",
      "Num_2033-S3    0\n",
      "Num_2033-S4    0\n",
      "Num_2034-S1    0\n",
      "Num_2034-S2    0\n",
      "Num_2034-S3    0\n",
      "Num_2034-S4    0\n",
      "dtype: int64\n"
     ]
    }
   ],
   "source": [
    "#create a new dataframe for variables\n",
    "title = ['merchant','Mean', 'Median', 'Max', 'Min', 'Num', 'Std', 'Sum', 'Length',\n",
    "         '2033-S1', '2033-S2', '2033-S3','2033-S4', '2034-S1', '2034-S2', '2034-S3', '2034-S4',\n",
    "         'Num_2033-S1', 'Num_2033-S2', 'Num_2033-S3', 'Num_2033-S4', 'Num_2034-S1', 'Num_2034-S2', 'Num_2034-S3', 'Num_2034-S4']\n",
    "dataset = pd.DataFrame(index=range(0, len(set(trans.merchant))),columns = title)\n",
    "dataset = dataset.fillna(stat)\n",
    "print(dataset.isnull().sum())\n",
    "\n"
   ],
   "metadata": {
    "collapsed": false,
    "pycharm": {
     "name": "#%%\n"
    }
   }
  },
  {
   "cell_type": "code",
   "execution_count": 248,
   "outputs": [
    {
     "name": "stdout",
     "output_type": "stream",
     "text": [
      "1.0142645755203565e+17\n",
      "               Mean  labels\n",
      "0            3379.0       0\n",
      "1           22319.5       0\n",
      "2       1054.321429       0\n",
      "3            7826.0       0\n",
      "4           10299.0       0\n",
      "...             ...     ...\n",
      "14346       14525.2       0\n",
      "14347   5313.509434       0\n",
      "14348  11840.901235       0\n",
      "14349   5311.333333       0\n",
      "14350  11602.065217       0\n",
      "\n",
      "[14351 rows x 2 columns]\n",
      "   labels  merchant\n",
      "0       0     12383\n",
      "1       1        60\n",
      "2       2      1307\n",
      "3       3         1\n",
      "4       4        23\n",
      "5       5       157\n",
      "6       6         1\n",
      "7       7         1\n",
      "8       8         1\n",
      "9       9       417\n"
     ]
    },
    {
     "data": {
      "text/plain": "<Figure size 432x288 with 1 Axes>",
      "image/png": "[encoded data removed]"
     },
     "metadata": {
      "needs_background": "light"
     },
     "output_type": "display_data"
    }
   ],
   "source": [
    "# K-means clustering\n",
    "kmeans = KMeans(n_clusters = 10) #10 clusters\n",
    "kmeans.fit(dataset.iloc[:,1:])\n",
    "print(kmeans.inertia_)\n",
    "dataset['labels'] = kmeans.labels_ # classification for merchant\n",
    "print(dataset.iloc[:,[1,25]])\n",
    "cluster = dataset.groupby('labels').count().reset_index()\n",
    "cluster = cluster.iloc[:,:2]\n",
    "print(cluster)\n",
    "plt.bar(cluster.iloc[:,0], cluster.iloc[:,1])\n",
    "plt.title(\"Number of Clusters\")\n",
    "plt.show()"
   ],
   "metadata": {
    "collapsed": false,
    "pycharm": {
     "name": "#%%\n"
    }
   }
  },
  {
   "cell_type": "markdown",
   "source": [
    "From the result of K-means clustering, we can get the different types of merchants, after analyzing the feature for each group of the merchant,\n",
    "we can define which group of the merchant belongs to some type of business. Also, we can apply different strategies for a different type\n",
    "of business, helping the company utilize resource maximal.\n",
    "\n"
   ],
   "metadata": {
    "collapsed": false,
    "pycharm": {
     "name": "#%% md\n"
    }
   }
  },
  {
   "cell_type": "markdown",
   "source": [
    "For the second, identifying and predicting churn (stop processing)\n",
    "\n",
    "To identify the churn, we should define how many days or months the merchant stop processing can be defined as churn.\n",
    "If we define the merchant stop processing longer than 30 days as churn, we find some merchants may restart to processing.\n",
    "So I define churn for a natural year, from 01-01 to 12-31. If merchant restart processing in one natural year,\n",
    "then tag as not churn\n",
    "\n",
    "We want to use these data to predict churn, first is separate data into two sets, one is a train set, another is a test\n",
    "set. we use a train set to train the model and evaluate our model by implementing it into the test set.\n",
    "After we define the churn, let 0 present no churn, 1 present churn.\n",
    "I want to random forest model to be trained and predict the test set and calculate the accuracy.\n"
   ],
   "metadata": {
    "collapsed": false,
    "pycharm": {
     "name": "#%% md\n"
    }
   }
  },
  {
   "cell_type": "code",
   "execution_count": 249,
   "outputs": [
    {
     "name": "stdout",
     "output_type": "stream",
     "text": [
      "merchant       0\n",
      "Year           0\n",
      "Mean           0\n",
      "Median         0\n",
      "Max            0\n",
      "Min            0\n",
      "Num            0\n",
      "Std         2617\n",
      "Sum            0\n",
      "dtype: int64\n",
      "merchant    0\n",
      "Year        0\n",
      "Mean        0\n",
      "Median      0\n",
      "Max         0\n",
      "Min         0\n",
      "Num         0\n",
      "Std         0\n",
      "Sum         0\n",
      "dtype: int64\n"
     ]
    }
   ],
   "source": [
    "#Seprate the data into two natural year\n",
    "stat2 = trans.groupby(['merchant','year'])['amount_usd_in_cents'].agg(metric).reset_index()\n",
    "stat2.columns = ['merchant', 'Year', 'Mean', 'Median', 'Max', 'Min', 'Num', 'Std', 'Sum']\n",
    "stat2.head()\n",
    "print(stat2.isnull().sum())\n",
    "stat2 = stat2.fillna(0)\n",
    "print(stat2.isnull().sum())"
   ],
   "metadata": {
    "collapsed": false,
    "pycharm": {
     "name": "#%%\n"
    }
   }
  },
  {
   "cell_type": "code",
   "execution_count": 250,
   "outputs": [],
   "source": [
    "count_month2 = trans.groupby(['merchant', 'year', 'month'])['amount_usd_in_cents'].count().reset_index()\n",
    "sum_month2 = trans.groupby(['merchant', 'year', 'month'])['amount_usd_in_cents'].sum().reset_index()"
   ],
   "metadata": {
    "collapsed": false,
    "pycharm": {
     "name": "#%%\n"
    }
   }
  },
  {
   "cell_type": "code",
   "execution_count": 251,
   "outputs": [
    {
     "data": {
      "text/plain": "     merchant       Year        Day  Type\n0  0002b63b92 2033-01-01 2033-05-16     1\n1  0002d07bba 2034-01-01 2034-12-15     1\n2  00057d4302 2033-01-01 2033-08-04     1\n3  000bcff341 2033-01-01 2033-08-09     1\n4  000ddbf0ca 2033-01-01 2033-06-02     1",
      "text/html": "<div>\n<style scoped>\n    .dataframe tbody tr th:only-of-type {\n        vertical-align: middle;\n    }\n\n    .dataframe tbody tr th {\n        vertical-align: top;\n    }\n\n    .dataframe thead th {\n        text-align: right;\n    }\n</style>\n<table border=\"1\" class=\"dataframe\">\n  <thead>\n    <tr style=\"text-align: right;\">\n      <th></th>\n      <th>merchant</th>\n      <th>Year</th>\n      <th>Day</th>\n      <th>Type</th>\n    </tr>\n  </thead>\n  <tbody>\n    <tr>\n      <th>0</th>\n      <td>0002b63b92</td>\n      <td>2033-01-01</td>\n      <td>2033-05-16</td>\n      <td>1</td>\n    </tr>\n    <tr>\n      <th>1</th>\n      <td>0002d07bba</td>\n      <td>2034-01-01</td>\n      <td>2034-12-15</td>\n      <td>1</td>\n    </tr>\n    <tr>\n      <th>2</th>\n      <td>00057d4302</td>\n      <td>2033-01-01</td>\n      <td>2033-08-04</td>\n      <td>1</td>\n    </tr>\n    <tr>\n      <th>3</th>\n      <td>000bcff341</td>\n      <td>2033-01-01</td>\n      <td>2033-08-09</td>\n      <td>1</td>\n    </tr>\n    <tr>\n      <th>4</th>\n      <td>000ddbf0ca</td>\n      <td>2033-01-01</td>\n      <td>2033-06-02</td>\n      <td>1</td>\n    </tr>\n  </tbody>\n</table>\n</div>"
     },
     "execution_count": 251,
     "metadata": {},
     "output_type": "execute_result"
    }
   ],
   "source": [
    "#Define the churn and tag as 0 and 1 into type variable\n",
    "max_day = trans.groupby(['merchant', 'year'])['day'].max().reset_index()\n",
    "min_day = trans.groupby(['merchant', 'year'])['day'].min().reset_index()\n",
    "max_day.columns = ['merchant', 'year', 'day']\n",
    "max_day['type'] = np.where( ((max_day['day'] < datetime(2033, 12, 31)) & (max_day['year'] == datetime(2033, 1, 1)))\n",
    "                            | ((max_day['day'] < datetime(2034, 12, 31)) & (max_day['year'] == datetime(2034, 1, 1))) ,1,0)\n",
    "max_day.columns = ['merchant', 'Year', 'Day', 'Type']\n",
    "max_day.head()"
   ],
   "metadata": {
    "collapsed": false,
    "pycharm": {
     "name": "#%%\n"
    }
   }
  },
  {
   "cell_type": "code",
   "execution_count": 252,
   "outputs": [
    {
     "data": {
      "text/plain": "                       2033-01  2033-02  2033-03  2033-04  2033-05  2033-06  \\\nmerchant   year                                                               \n0002b63b92 2033-01-01      0.0      0.0      0.0      0.0   3379.0      0.0   \n0002d07bba 2034-01-01      0.0      0.0      0.0      0.0      0.0      0.0   \n00057d4302 2033-01-01      0.0      0.0      0.0      0.0  20386.0      0.0   \n000bcff341 2033-01-01      0.0      0.0      0.0      0.0      0.0      0.0   \n000ddbf0ca 2033-01-01      0.0      0.0      0.0      0.0      0.0  10299.0   \n\n                       2033-07  2033-08  2033-09  2033-10  ...  2034-03  \\\nmerchant   year                                            ...            \n0002b63b92 2033-01-01      0.0      0.0      0.0      0.0  ...      0.0   \n0002d07bba 2034-01-01      0.0      0.0      0.0      0.0  ...      0.0   \n00057d4302 2033-01-01      0.0   9135.0      0.0      0.0  ...      0.0   \n000bcff341 2033-01-01      0.0   7826.0      0.0      0.0  ...      0.0   \n000ddbf0ca 2033-01-01      0.0      0.0      0.0      0.0  ...      0.0   \n\n                       2034-04  2034-05  2034-06  2034-07  2034-08  2034-09  \\\nmerchant   year                                                               \n0002b63b92 2033-01-01      0.0      0.0      0.0      0.0      0.0      0.0   \n0002d07bba 2034-01-01      0.0      0.0      0.0      0.0      0.0      0.0   \n00057d4302 2033-01-01      0.0      0.0      0.0      0.0      0.0      0.0   \n000bcff341 2033-01-01      0.0      0.0      0.0      0.0      0.0      0.0   \n000ddbf0ca 2033-01-01      0.0      0.0      0.0      0.0      0.0      0.0   \n\n                       2034-10  2034-11  2034-12  \nmerchant   year                                   \n0002b63b92 2033-01-01      0.0      0.0      0.0  \n0002d07bba 2034-01-01  43379.0  43842.0   2057.0  \n00057d4302 2033-01-01      0.0      0.0      0.0  \n000bcff341 2033-01-01      0.0      0.0      0.0  \n000ddbf0ca 2033-01-01      0.0      0.0      0.0  \n\n[5 rows x 24 columns]",
      "text/html": "<div>\n<style scoped>\n    .dataframe tbody tr th:only-of-type {\n        vertical-align: middle;\n    }\n\n    .dataframe tbody tr th {\n        vertical-align: top;\n    }\n\n    .dataframe thead th {\n        text-align: right;\n    }\n</style>\n<table border=\"1\" class=\"dataframe\">\n  <thead>\n    <tr style=\"text-align: right;\">\n      <th></th>\n      <th></th>\n      <th>2033-01</th>\n      <th>2033-02</th>\n      <th>2033-03</th>\n      <th>2033-04</th>\n      <th>2033-05</th>\n      <th>2033-06</th>\n      <th>2033-07</th>\n      <th>2033-08</th>\n      <th>2033-09</th>\n      <th>2033-10</th>\n      <th>...</th>\n      <th>2034-03</th>\n      <th>2034-04</th>\n      <th>2034-05</th>\n      <th>2034-06</th>\n      <th>2034-07</th>\n      <th>2034-08</th>\n      <th>2034-09</th>\n      <th>2034-10</th>\n      <th>2034-11</th>\n      <th>2034-12</th>\n    </tr>\n    <tr>\n      <th>merchant</th>\n      <th>year</th>\n      <th></th>\n      <th></th>\n      <th></th>\n      <th></th>\n      <th></th>\n      <th></th>\n      <th></th>\n      <th></th>\n      <th></th>\n      <th></th>\n      <th></th>\n      <th></th>\n      <th></th>\n      <th></th>\n      <th></th>\n      <th></th>\n      <th></th>\n      <th></th>\n      <th></th>\n      <th></th>\n      <th></th>\n    </tr>\n  </thead>\n  <tbody>\n    <tr>\n      <th>0002b63b92</th>\n      <th>2033-01-01</th>\n      <td>0.0</td>\n      <td>0.0</td>\n      <td>0.0</td>\n      <td>0.0</td>\n      <td>3379.0</td>\n      <td>0.0</td>\n      <td>0.0</td>\n      <td>0.0</td>\n      <td>0.0</td>\n      <td>0.0</td>\n      <td>...</td>\n      <td>0.0</td>\n      <td>0.0</td>\n      <td>0.0</td>\n      <td>0.0</td>\n      <td>0.0</td>\n      <td>0.0</td>\n      <td>0.0</td>\n      <td>0.0</td>\n      <td>0.0</td>\n      <td>0.0</td>\n    </tr>\n    <tr>\n      <th>0002d07bba</th>\n      <th>2034-01-01</th>\n      <td>0.0</td>\n      <td>0.0</td>\n      <td>0.0</td>\n      <td>0.0</td>\n      <td>0.0</td>\n      <td>0.0</td>\n      <td>0.0</td>\n      <td>0.0</td>\n      <td>0.0</td>\n      <td>0.0</td>\n      <td>...</td>\n      <td>0.0</td>\n      <td>0.0</td>\n      <td>0.0</td>\n      <td>0.0</td>\n      <td>0.0</td>\n      <td>0.0</td>\n      <td>0.0</td>\n      <td>43379.0</td>\n      <td>43842.0</td>\n      <td>2057.0</td>\n    </tr>\n    <tr>\n      <th>00057d4302</th>\n      <th>2033-01-01</th>\n      <td>0.0</td>\n      <td>0.0</td>\n      <td>0.0</td>\n      <td>0.0</td>\n      <td>20386.0</td>\n      <td>0.0</td>\n      <td>0.0</td>\n      <td>9135.0</td>\n      <td>0.0</td>\n      <td>0.0</td>\n      <td>...</td>\n      <td>0.0</td>\n      <td>0.0</td>\n      <td>0.0</td>\n      <td>0.0</td>\n      <td>0.0</td>\n      <td>0.0</td>\n      <td>0.0</td>\n      <td>0.0</td>\n      <td>0.0</td>\n      <td>0.0</td>\n    </tr>\n    <tr>\n      <th>000bcff341</th>\n      <th>2033-01-01</th>\n      <td>0.0</td>\n      <td>0.0</td>\n      <td>0.0</td>\n      <td>0.0</td>\n      <td>0.0</td>\n      <td>0.0</td>\n      <td>0.0</td>\n      <td>7826.0</td>\n      <td>0.0</td>\n      <td>0.0</td>\n      <td>...</td>\n      <td>0.0</td>\n      <td>0.0</td>\n      <td>0.0</td>\n      <td>0.0</td>\n      <td>0.0</td>\n      <td>0.0</td>\n      <td>0.0</td>\n      <td>0.0</td>\n      <td>0.0</td>\n      <td>0.0</td>\n    </tr>\n    <tr>\n      <th>000ddbf0ca</th>\n      <th>2033-01-01</th>\n      <td>0.0</td>\n      <td>0.0</td>\n      <td>0.0</td>\n      <td>0.0</td>\n      <td>0.0</td>\n      <td>10299.0</td>\n      <td>0.0</td>\n      <td>0.0</td>\n      <td>0.0</td>\n      <td>0.0</td>\n      <td>...</td>\n      <td>0.0</td>\n      <td>0.0</td>\n      <td>0.0</td>\n      <td>0.0</td>\n      <td>0.0</td>\n      <td>0.0</td>\n      <td>0.0</td>\n      <td>0.0</td>\n      <td>0.0</td>\n      <td>0.0</td>\n    </tr>\n  </tbody>\n</table>\n<p>5 rows × 24 columns</p>\n</div>"
     },
     "execution_count": 252,
     "metadata": {},
     "output_type": "execute_result"
    }
   ],
   "source": [
    "#calculate the length variable\n",
    "count_month2 = count_month2.pivot(index = ['merchant', 'year'], columns = 'month', values = 'amount_usd_in_cents')\n",
    "sum_month2 = sum_month2.pivot(index = ['merchant', 'year'], columns = 'month', values = 'amount_usd_in_cents')\n",
    "count_month2.columns = [month for month in count_month2.columns.strftime('%Y-%m')]\n",
    "sum_month2.columns = [month for month in sum_month2.columns.strftime('%Y-%m')]\n",
    "count_month2['Length'] = count_month2.notnull().sum(axis=1)\n",
    "count_month2 = count_month2.fillna(0)\n",
    "sum_month2 = sum_month2.fillna(0)\n",
    "count_month2.head()\n",
    "sum_month2.head()"
   ],
   "metadata": {
    "collapsed": false,
    "pycharm": {
     "name": "#%%\n"
    }
   }
  },
  {
   "cell_type": "code",
   "execution_count": 253,
   "outputs": [],
   "source": [
    "#Sum to season\n",
    "count_month2['2033-S1'] = count_month2['2033-01'] + count_month2['2033-02'] + count_month2['2033-03']\n",
    "count_month2['2033-S2'] = count_month2['2033-04'] + count_month2['2033-05'] + count_month2['2033-06']\n",
    "count_month2['2033-S3'] = count_month2['2033-07'] + count_month2['2033-08'] + count_month2['2033-09']\n",
    "count_month2['2033-S4'] = count_month2['2033-10'] + count_month2['2033-11'] + count_month2['2033-12']\n",
    "count_month2['2034-S1'] = count_month2['2034-01'] + count_month2['2034-02'] + count_month2['2034-03']\n",
    "count_month2['2034-S2'] = count_month2['2034-04'] + count_month2['2034-05'] + count_month2['2034-06']\n",
    "count_month2['2034-S3'] = count_month2['2034-07'] + count_month2['2034-08'] + count_month2['2034-09']\n",
    "count_month2['2034-S4'] = count_month2['2034-10'] + count_month2['2034-11'] + count_month2['2034-12']\n",
    "sum_month2['Num_2033-S1'] = sum_month2['2033-01'] + sum_month2['2033-02'] + sum_month2['2033-03']\n",
    "sum_month2['Num_2033-S2'] = sum_month2['2033-04'] + sum_month2['2033-05'] + sum_month2['2033-06']\n",
    "sum_month2['Num_2033-S3'] = sum_month2['2033-07'] + sum_month2['2033-08'] + sum_month2['2033-09']\n",
    "sum_month2['Num_2033-S4'] = sum_month2['2033-10'] + sum_month2['2033-11'] + sum_month2['2033-12']\n",
    "sum_month2['Num_2034-S1'] = sum_month2['2034-01'] + sum_month2['2034-02'] + sum_month2['2034-03']\n",
    "sum_month2['Num_2034-S2'] = sum_month2['2034-04'] + sum_month2['2034-05'] + sum_month2['2034-06']\n",
    "sum_month2['Num_2034-S3'] = sum_month2['2034-07'] + sum_month2['2034-08'] + sum_month2['2034-09']\n",
    "sum_month2['Num_2034-S4'] = sum_month2['2034-10'] + sum_month2['2034-11'] + sum_month2['2034-12']\n",
    "count_month2 = count_month2.reset_index()\n",
    "sum_month2 = sum_month2.reset_index()\n",
    "count_month2['S1'] = np.where( count_month2['year'] == datetime(2033, 1, 1), count_month2['2033-S1'], count_month2['2034-S1'])\n",
    "count_month2['S2'] = np.where( count_month2['year'] == datetime(2033, 1, 1), count_month2['2033-S2'], count_month2['2034-S2'])\n",
    "count_month2['S3'] = np.where( count_month2['year'] == datetime(2033, 1, 1), count_month2['2033-S3'], count_month2['2034-S3'])\n",
    "count_month2['S4'] = np.where( count_month2['year'] == datetime(2033, 1, 1), count_month2['2033-S4'], count_month2['2034-S4'])\n",
    "sum_month2['Num-S1'] = np.where( sum_month2['year'] == datetime(2033, 1, 1), sum_month2['Num_2033-S1'], sum_month2['Num_2034-S1'])\n",
    "sum_month2['Num-S2'] = np.where( sum_month2['year'] == datetime(2033, 1, 1), sum_month2['Num_2033-S2'], sum_month2['Num_2034-S2'])\n",
    "sum_month2['Num-S3'] = np.where( sum_month2['year'] == datetime(2033, 1, 1), sum_month2['Num_2033-S3'], sum_month2['Num_2034-S3'])\n",
    "sum_month2['Num-S4'] = np.where( sum_month2['year'] == datetime(2033, 1, 1), sum_month2['Num_2033-S4'], sum_month2['Num_2034-S4'])\n",
    "count_season2 = count_month2.iloc[:,[0,1,35,36,37,38]]\n",
    "sum_season2 = sum_month2.iloc[:,[0,1,34,35,36,37]]\n",
    "count_season2.columns = ['merchant', 'Year', 'Num-S1', 'Num-S2', 'Num-S3', 'Num-S4']\n",
    "sum_season2.columns = ['merchant', 'Year', 'S1', 'S2', 'S3', 'S4']\n",
    "length = count_month2.loc[:,['merchant', 'year', 'Length']]\n",
    "length.columns = ['merchant', 'Year', 'Length']\n",
    "types = pd.DataFrame(max_day.iloc[:,[0,1,3]])\n"
   ],
   "metadata": {
    "collapsed": false,
    "pycharm": {
     "name": "#%%\n"
    }
   }
  },
  {
   "cell_type": "code",
   "execution_count": 254,
   "outputs": [
    {
     "data": {
      "text/plain": "         merchant       Year  Type\n0      0002b63b92 2033-01-01   1.0\n1      0002b63b92 2034-01-01   1.0\n2      0002d07bba 2033-01-01   1.0\n3      0002d07bba 2034-01-01   1.0\n4      00057d4302 2033-01-01   1.0\n...           ...        ...   ...\n28697  ffe26b900d 2034-01-01   1.0\n28698  ffec05edb9 2033-01-01   1.0\n28699  ffec05edb9 2034-01-01   1.0\n28700  fff1754102 2033-01-01   1.0\n28701  fff1754102 2034-01-01   1.0\n\n[28702 rows x 3 columns]",
      "text/html": "<div>\n<style scoped>\n    .dataframe tbody tr th:only-of-type {\n        vertical-align: middle;\n    }\n\n    .dataframe tbody tr th {\n        vertical-align: top;\n    }\n\n    .dataframe thead th {\n        text-align: right;\n    }\n</style>\n<table border=\"1\" class=\"dataframe\">\n  <thead>\n    <tr style=\"text-align: right;\">\n      <th></th>\n      <th>merchant</th>\n      <th>Year</th>\n      <th>Type</th>\n    </tr>\n  </thead>\n  <tbody>\n    <tr>\n      <th>0</th>\n      <td>0002b63b92</td>\n      <td>2033-01-01</td>\n      <td>1.0</td>\n    </tr>\n    <tr>\n      <th>1</th>\n      <td>0002b63b92</td>\n      <td>2034-01-01</td>\n      <td>1.0</td>\n    </tr>\n    <tr>\n      <th>2</th>\n      <td>0002d07bba</td>\n      <td>2033-01-01</td>\n      <td>1.0</td>\n    </tr>\n    <tr>\n      <th>3</th>\n      <td>0002d07bba</td>\n      <td>2034-01-01</td>\n      <td>1.0</td>\n    </tr>\n    <tr>\n      <th>4</th>\n      <td>00057d4302</td>\n      <td>2033-01-01</td>\n      <td>1.0</td>\n    </tr>\n    <tr>\n      <th>...</th>\n      <td>...</td>\n      <td>...</td>\n      <td>...</td>\n    </tr>\n    <tr>\n      <th>28697</th>\n      <td>ffe26b900d</td>\n      <td>2034-01-01</td>\n      <td>1.0</td>\n    </tr>\n    <tr>\n      <th>28698</th>\n      <td>ffec05edb9</td>\n      <td>2033-01-01</td>\n      <td>1.0</td>\n    </tr>\n    <tr>\n      <th>28699</th>\n      <td>ffec05edb9</td>\n      <td>2034-01-01</td>\n      <td>1.0</td>\n    </tr>\n    <tr>\n      <th>28700</th>\n      <td>fff1754102</td>\n      <td>2033-01-01</td>\n      <td>1.0</td>\n    </tr>\n    <tr>\n      <th>28701</th>\n      <td>fff1754102</td>\n      <td>2034-01-01</td>\n      <td>1.0</td>\n    </tr>\n  </tbody>\n</table>\n<p>28702 rows × 3 columns</p>\n</div>"
     },
     "execution_count": 254,
     "metadata": {},
     "output_type": "execute_result"
    }
   ],
   "source": [
    "Id = pd.DataFrame(stat.iloc[:,0])\n",
    "Year =  pd.DataFrame({'Year':[datetime(2033, 1, 1), datetime(2034, 1, 1)]})\n",
    "name = Id.merge(Year, how = 'cross')\n",
    "#if merchant is not churn for 2033, and stop processing for 2034, it similar with situation that type in 2034 is null, I define this\n",
    "#situation as churn\n",
    "types_new = name.merge(types, how = 'left', on = ['merchant', 'Year'])\n",
    "types_new = types_new.fillna(1)\n",
    "types_new"
   ],
   "metadata": {
    "collapsed": false,
    "pycharm": {
     "name": "#%%\n"
    }
   }
  },
  {
   "cell_type": "code",
   "execution_count": 255,
   "outputs": [
    {
     "data": {
      "text/plain": "<AxesSubplot:ylabel='Frequency'>"
     },
     "execution_count": 255,
     "metadata": {},
     "output_type": "execute_result"
    },
    {
     "data": {
      "text/plain": "<Figure size 432x288 with 1 Axes>",
      "image/png": "[encoded data removed]"
     },
     "metadata": {
      "needs_background": "light"
     },
     "output_type": "display_data"
    }
   ],
   "source": [
    "#plot the frequency of churn\n",
    "types_new.plot.hist()"
   ],
   "metadata": {
    "collapsed": false,
    "pycharm": {
     "name": "#%%\n"
    }
   }
  },
  {
   "cell_type": "code",
   "execution_count": 256,
   "outputs": [
    {
     "data": {
      "text/plain": "     merchant       Year  Type          Mean   Median      Max     Min   Num  \\\n0  0002b63b92 2033-01-01   1.0   3379.000000   3379.0   3379.0  3379.0   1.0   \n1  0002b63b92 2034-01-01   1.0      0.000000      0.0      0.0     0.0   0.0   \n2  0002d07bba 2033-01-01   1.0      0.000000      0.0      0.0     0.0   0.0   \n3  0002d07bba 2034-01-01   1.0  22319.500000  21689.5  43842.0  2057.0   4.0   \n4  00057d4302 2033-01-01   1.0   1054.321429    752.0   4073.0   605.0  28.0   \n\n            Std      Sum  Length   S1       S2      S3       S4  Num-S1  \\\n0      0.000000   3379.0     1.0  0.0   3379.0     0.0      0.0     0.0   \n1      0.000000      0.0     0.0  0.0      0.0     0.0      0.0     0.0   \n2      0.000000      0.0     0.0  0.0      0.0     0.0      0.0     0.0   \n3  21568.589762  89278.0     3.0  0.0      0.0     0.0  89278.0     0.0   \n4    780.703911  29521.0     2.0  0.0  20386.0  9135.0      0.0     0.0   \n\n   Num-S2  Num-S3  Num-S4  \n0     1.0     0.0     0.0  \n1     0.0     0.0     0.0  \n2     0.0     0.0     0.0  \n3     0.0     0.0     4.0  \n4    17.0    11.0     0.0  ",
      "text/html": "<div>\n<style scoped>\n    .dataframe tbody tr th:only-of-type {\n        vertical-align: middle;\n    }\n\n    .dataframe tbody tr th {\n        vertical-align: top;\n    }\n\n    .dataframe thead th {\n        text-align: right;\n    }\n</style>\n<table border=\"1\" class=\"dataframe\">\n  <thead>\n    <tr style=\"text-align: right;\">\n      <th></th>\n      <th>merchant</th>\n      <th>Year</th>\n      <th>Type</th>\n      <th>Mean</th>\n      <th>Median</th>\n      <th>Max</th>\n      <th>Min</th>\n      <th>Num</th>\n      <th>Std</th>\n      <th>Sum</th>\n      <th>Length</th>\n      <th>S1</th>\n      <th>S2</th>\n      <th>S3</th>\n      <th>S4</th>\n      <th>Num-S1</th>\n      <th>Num-S2</th>\n      <th>Num-S3</th>\n      <th>Num-S4</th>\n    </tr>\n  </thead>\n  <tbody>\n    <tr>\n      <th>0</th>\n      <td>0002b63b92</td>\n      <td>2033-01-01</td>\n      <td>1.0</td>\n      <td>3379.000000</td>\n      <td>3379.0</td>\n      <td>3379.0</td>\n      <td>3379.0</td>\n      <td>1.0</td>\n      <td>0.000000</td>\n      <td>3379.0</td>\n      <td>1.0</td>\n      <td>0.0</td>\n      <td>3379.0</td>\n      <td>0.0</td>\n      <td>0.0</td>\n      <td>0.0</td>\n      <td>1.0</td>\n      <td>0.0</td>\n      <td>0.0</td>\n    </tr>\n    <tr>\n      <th>1</th>\n      <td>0002b63b92</td>\n      <td>2034-01-01</td>\n      <td>1.0</td>\n      <td>0.000000</td>\n      <td>0.0</td>\n      <td>0.0</td>\n      <td>0.0</td>\n      <td>0.0</td>\n      <td>0.000000</td>\n      <td>0.0</td>\n      <td>0.0</td>\n      <td>0.0</td>\n      <td>0.0</td>\n      <td>0.0</td>\n      <td>0.0</td>\n      <td>0.0</td>\n      <td>0.0</td>\n      <td>0.0</td>\n      <td>0.0</td>\n    </tr>\n    <tr>\n      <th>2</th>\n      <td>0002d07bba</td>\n      <td>2033-01-01</td>\n      <td>1.0</td>\n      <td>0.000000</td>\n      <td>0.0</td>\n      <td>0.0</td>\n      <td>0.0</td>\n      <td>0.0</td>\n      <td>0.000000</td>\n      <td>0.0</td>\n      <td>0.0</td>\n      <td>0.0</td>\n      <td>0.0</td>\n      <td>0.0</td>\n      <td>0.0</td>\n      <td>0.0</td>\n      <td>0.0</td>\n      <td>0.0</td>\n      <td>0.0</td>\n    </tr>\n    <tr>\n      <th>3</th>\n      <td>0002d07bba</td>\n      <td>2034-01-01</td>\n      <td>1.0</td>\n      <td>22319.500000</td>\n      <td>21689.5</td>\n      <td>43842.0</td>\n      <td>2057.0</td>\n      <td>4.0</td>\n      <td>21568.589762</td>\n      <td>89278.0</td>\n      <td>3.0</td>\n      <td>0.0</td>\n      <td>0.0</td>\n      <td>0.0</td>\n      <td>89278.0</td>\n      <td>0.0</td>\n      <td>0.0</td>\n      <td>0.0</td>\n      <td>4.0</td>\n    </tr>\n    <tr>\n      <th>4</th>\n      <td>00057d4302</td>\n      <td>2033-01-01</td>\n      <td>1.0</td>\n      <td>1054.321429</td>\n      <td>752.0</td>\n      <td>4073.0</td>\n      <td>605.0</td>\n      <td>28.0</td>\n      <td>780.703911</td>\n      <td>29521.0</td>\n      <td>2.0</td>\n      <td>0.0</td>\n      <td>20386.0</td>\n      <td>9135.0</td>\n      <td>0.0</td>\n      <td>0.0</td>\n      <td>17.0</td>\n      <td>11.0</td>\n      <td>0.0</td>\n    </tr>\n  </tbody>\n</table>\n</div>"
     },
     "execution_count": 256,
     "metadata": {},
     "output_type": "execute_result"
    }
   ],
   "source": [
    "#combine to one dataframe\n",
    "stat_new = types_new.merge(stat2, how = 'left', on = ['merchant', 'Year'])\n",
    "stat_new = stat_new.merge(length, how = 'left', on = ['merchant', 'Year'])\n",
    "stat_new = stat_new.merge(sum_season2, how = 'left', on = ['merchant', 'Year'])\n",
    "stat_new = stat_new.merge(count_season2, how = 'left', on = ['merchant', 'Year'])\n",
    "stat_new = stat_new.fillna(0)\n",
    "stat_new.head()\n"
   ],
   "metadata": {
    "collapsed": false,
    "pycharm": {
     "name": "#%%\n"
    }
   }
  },
  {
   "cell_type": "code",
   "execution_count": 257,
   "outputs": [
    {
     "name": "stdout",
     "output_type": "stream",
     "text": [
      "merchant    0\n",
      "Year        0\n",
      "Type        0\n",
      "Mean        0\n",
      "Median      0\n",
      "Max         0\n",
      "Min         0\n",
      "Num         0\n",
      "Std         0\n",
      "Sum         0\n",
      "Length      0\n",
      "S1          0\n",
      "S2          0\n",
      "S3          0\n",
      "S4          0\n",
      "Num-S1      0\n",
      "Num-S2      0\n",
      "Num-S3      0\n",
      "Num-S4      0\n",
      "dtype: int64\n"
     ]
    }
   ],
   "source": [
    "#create a new data frame for variables\n",
    "title2 = ['merchant', 'Year', 'Type', 'Mean', 'Median', 'Max', 'Min', 'Num', 'Std', 'Sum', 'Length',\n",
    "         'S1', 'S2', 'S3','S4', 'Num-S1', 'Num-S2', 'Num-S3', 'Num-S4']\n",
    "dataset2 = pd.DataFrame(index=range(0, len(set(trans.merchant))*2),columns = title2)\n",
    "dataset2 = dataset2.fillna(stat_new)\n",
    "dataset2.head()\n",
    "print(dataset2.isnull().sum())\n",
    "\n"
   ],
   "metadata": {
    "collapsed": false,
    "pycharm": {
     "name": "#%%\n"
    }
   }
  },
  {
   "cell_type": "code",
   "execution_count": 261,
   "outputs": [
    {
     "name": "stderr",
     "output_type": "stream",
     "text": [
      "C:\\Users\\杯杯\\AppData\\Local\\Temp\\ipykernel_613360\\1873472098.py:1: FutureWarning: Dropping invalid columns in DataFrameGroupBy.mean is deprecated. In a future version, a TypeError will be raised. Before calling .mean, select only columns which should be valid for the function.\n",
      "  dataset2.groupby('Type').mean()\n"
     ]
    },
    {
     "data": {
      "text/plain": "                              Year          Mean        Median            Max  \\\nType                                                                            \n0.0  2033-07-14 04:43:11.747146496  18446.705769  13848.157594  146957.557507   \n1.0  2033-07-02 00:23:58.798389248  25604.292729  21789.130864   70550.853572   \n\n               Min         Num           Std           Sum    Length  \\\nType                                                                   \n0.0    3934.891133  545.398595  18268.348778  5.345094e+06  6.843723   \n1.0   13115.031600   32.380728  15416.833743  6.295165e+05  2.541922   \n\n                 S1             S2            S3            S4     Num-S1  \\\nType                                                                        \n0.0   632575.587357  993949.894644  1.394698e+06  2.323870e+06  71.006146   \n1.0    99065.256394  142690.484708  1.758715e+05  2.118892e+05   5.889308   \n\n          Num-S2      Num-S3      Num-S4  \nType                                      \n0.0   103.874451  140.374012  230.143986  \n1.0     7.491710    8.969452   10.030258  ",
      "text/html": "<div>\n<style scoped>\n    .dataframe tbody tr th:only-of-type {\n        vertical-align: middle;\n    }\n\n    .dataframe tbody tr th {\n        vertical-align: top;\n    }\n\n    .dataframe thead th {\n        text-align: right;\n    }\n</style>\n<table border=\"1\" class=\"dataframe\">\n  <thead>\n    <tr style=\"text-align: right;\">\n      <th></th>\n      <th>Year</th>\n      <th>Mean</th>\n      <th>Median</th>\n      <th>Max</th>\n      <th>Min</th>\n      <th>Num</th>\n      <th>Std</th>\n      <th>Sum</th>\n      <th>Length</th>\n      <th>S1</th>\n      <th>S2</th>\n      <th>S3</th>\n      <th>S4</th>\n      <th>Num-S1</th>\n      <th>Num-S2</th>\n      <th>Num-S3</th>\n      <th>Num-S4</th>\n    </tr>\n    <tr>\n      <th>Type</th>\n      <th></th>\n      <th></th>\n      <th></th>\n      <th></th>\n      <th></th>\n      <th></th>\n      <th></th>\n      <th></th>\n      <th></th>\n      <th></th>\n      <th></th>\n      <th></th>\n      <th></th>\n      <th></th>\n      <th></th>\n      <th></th>\n      <th></th>\n    </tr>\n  </thead>\n  <tbody>\n    <tr>\n      <th>0.0</th>\n      <td>2033-07-14 04:43:11.747146496</td>\n      <td>18446.705769</td>\n      <td>13848.157594</td>\n      <td>146957.557507</td>\n      <td>3934.891133</td>\n      <td>545.398595</td>\n      <td>18268.348778</td>\n      <td>5.345094e+06</td>\n      <td>6.843723</td>\n      <td>632575.587357</td>\n      <td>993949.894644</td>\n      <td>1.394698e+06</td>\n      <td>2.323870e+06</td>\n      <td>71.006146</td>\n      <td>103.874451</td>\n      <td>140.374012</td>\n      <td>230.143986</td>\n    </tr>\n    <tr>\n      <th>1.0</th>\n      <td>2033-07-02 00:23:58.798389248</td>\n      <td>25604.292729</td>\n      <td>21789.130864</td>\n      <td>70550.853572</td>\n      <td>13115.031600</td>\n      <td>32.380728</td>\n      <td>15416.833743</td>\n      <td>6.295165e+05</td>\n      <td>2.541922</td>\n      <td>99065.256394</td>\n      <td>142690.484708</td>\n      <td>1.758715e+05</td>\n      <td>2.118892e+05</td>\n      <td>5.889308</td>\n      <td>7.491710</td>\n      <td>8.969452</td>\n      <td>10.030258</td>\n    </tr>\n  </tbody>\n</table>\n</div>"
     },
     "execution_count": 261,
     "metadata": {},
     "output_type": "execute_result"
    }
   ],
   "source": [
    "dataset2.groupby('Type').mean()"
   ],
   "metadata": {
    "collapsed": false,
    "pycharm": {
     "name": "#%%\n"
    }
   }
  },
  {
   "cell_type": "markdown",
   "source": [
    "Some observations:\n",
    "1. The average of the sum of amount, number of transactions of not churn merchant is higher, also the length of processing is longer,\n",
    "but the mean, median, max, min is lower than churn. That is means, churn merchants have a shorter time to make the transaction, they make\n",
    "a transaction for a higher value but the frequency is lower.\n",
    "2. Not churn merchant always has small value transaction but use for a long time.\n",
    "3. To prevent customer defection, the company can focus on some type of business.\n",
    "\n"
   ],
   "metadata": {
    "collapsed": false,
    "pycharm": {
     "name": "#%% md\n"
    }
   }
  },
  {
   "cell_type": "code",
   "execution_count": 265,
   "outputs": [
    {
     "data": {
      "text/plain": "<AxesSubplot:xlabel='labels'>"
     },
     "execution_count": 265,
     "metadata": {},
     "output_type": "execute_result"
    },
    {
     "data": {
      "text/plain": "<Figure size 432x288 with 1 Axes>",
      "image/png": "[encoded data removed]"
     },
     "metadata": {
      "needs_background": "light"
     },
     "output_type": "display_data"
    }
   ],
   "source": [
    "data_typed = dataset2.merge(dataset, how = 'left', on = 'merchant')\n",
    "pd.crosstab(data_typed.labels, data_typed.Type).plot(kind='bar')\n"
   ],
   "metadata": {
    "collapsed": false,
    "pycharm": {
     "name": "#%%\n"
    }
   }
  },
  {
   "cell_type": "code",
   "execution_count": 258,
   "outputs": [],
   "source": [
    "#randomly separate data into two set, 30% is test set, 70% is train set.\n",
    "train_data = dataset2.sample(frac=0.7, random_state=25)\n",
    "train_labels = pd.DataFrame(train_data.loc[:,'Type'])\n",
    "train_labels = train_labels.astype('int')\n",
    "test_data = dataset2.drop(train_data.index)\n",
    "test_labels = test_data.loc[:,'Type']\n",
    "test_labels = test_labels.astype('int')"
   ],
   "metadata": {
    "collapsed": false,
    "pycharm": {
     "name": "#%%\n"
    }
   }
  },
  {
   "cell_type": "code",
   "execution_count": 259,
   "outputs": [
    {
     "name": "stderr",
     "output_type": "stream",
     "text": [
      "C:\\Users\\杯杯\\AppData\\Local\\Temp\\ipykernel_613360\\1192307961.py:3: DataConversionWarning: A column-vector y was passed when a 1d array was expected. Please change the shape of y to (n_samples,), for example using ravel().\n",
      "  rf.fit(train_data.iloc[:,3:], train_labels)\n"
     ]
    }
   ],
   "source": [
    "#random forest classifier to predict the test data\n",
    "rf = RandomForestClassifier(n_estimators = 1000)\n",
    "rf.fit(train_data.iloc[:,3:], train_labels)\n",
    "predictions = rf.predict(test_data.iloc[:,3:])"
   ],
   "metadata": {
    "collapsed": false,
    "pycharm": {
     "name": "#%%\n"
    }
   }
  },
  {
   "cell_type": "code",
   "execution_count": 260,
   "outputs": [
    {
     "name": "stdout",
     "output_type": "stream",
     "text": [
      "Accuracy: 0.9607478806178145\n"
     ]
    }
   ],
   "source": [
    "#calculate the accuracy of the model\n",
    "print(\"Accuracy:\",metrics.accuracy_score(test_labels, predictions))\n"
   ],
   "metadata": {
    "collapsed": false,
    "pycharm": {
     "name": "#%%\n"
    }
   }
  }
 ],
 "metadata": {
  "kernelspec": {
   "display_name": "Python 3",
   "language": "python",
   "name": "python3"
  },
  "language_info": {
   "codemirror_mode": {
    "name": "ipython",
    "version": 2
   },
   "file_extension": ".py",
   "mimetype": "text/x-python",
   "name": "python",
   "nbconvert_exporter": "python",
   "pygments_lexer": "ipython2",
   "version": "2.7.6"
  }
 },
 "nbformat": 4,
 "nbformat_minor": 0
}